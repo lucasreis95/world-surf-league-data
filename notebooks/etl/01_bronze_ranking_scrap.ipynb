{
  "nbformat": 4,
  "nbformat_minor": 0,
  "metadata": {
    "colab": {
      "provenance": [],
      "toc_visible": true,
      "authorship_tag": "ABX9TyM/Ak32KulgEs3pvwP3fw8X",
      "include_colab_link": true
    },
    "kernelspec": {
      "name": "python3",
      "display_name": "Python 3"
    },
    "language_info": {
      "name": "python"
    }
  },
  "cells": [
    {
      "cell_type": "markdown",
      "metadata": {
        "id": "view-in-github",
        "colab_type": "text"
      },
      "source": [
        "<a href=\"https://colab.research.google.com/github/lucasreis95/world-surf-league-data/blob/main/notebooks/01_bronze_ranking_scrap.ipynb\" target=\"_parent\"><img src=\"https://colab.research.google.com/assets/colab-badge.svg\" alt=\"Open In Colab\"/></a>"
      ]
    },
    {
      "cell_type": "code",
      "execution_count": null,
      "metadata": {
        "id": "LoDYKTG52ScG"
      },
      "outputs": [],
      "source": [
        "# import libs\n",
        "import pandas as pd\n",
        "from datetime import date\n",
        "import pandas_gbq\n",
        "import numpy as np"
      ]
    },
    {
      "cell_type": "code",
      "source": [
        "# get main url (don't include year)\n",
        "url = 'https://www.worldsurfleague.com/athletes/tour/mct?year='"
      ],
      "metadata": {
        "id": "0kvB50QF2wFt"
      },
      "execution_count": null,
      "outputs": []
    },
    {
      "cell_type": "code",
      "source": [
        "# iterate over years\n",
        "tables_list = []\n",
        "# skip 2020 in year list as we dont't had contest\n",
        "year_list = [i for i in range(2010, 2025) if i != 2020]\n",
        "for year in year_list:\n",
        "  # convert to string to concatenate with url\n",
        "  year_str = str(year)\n",
        "  # get all tables from page\n",
        "  raw_page_tables = pd.read_html(url + year_str)\n",
        "  # as wsl ranking page contains just one table, select the first one\n",
        "  raw_table= raw_page_tables[0]\n",
        "  # remove multilevel columns from df\n",
        "  raw_table.columns = raw_table.columns.droplevel(0)\n",
        "  # add year column\n",
        "  raw_table['year'] = year_str\n",
        "  # add processing column\n",
        "  raw_table['processing_date'] = str(date.today())\n",
        "  # append dfs to tables list\n",
        "  tables_list.append(raw_table)\n",
        "  #print('Ranking table of ', year, ' has been cleaned.')\n",
        "# concat all years dfs\n",
        "df_rank = pd.concat(tables_list)\n",
        "# convert all columns to string to load into big query\n",
        "df_rank = df_rank.astype(str)\n",
        "# replace spaces and dashes to underscores in column names\n",
        "df_rank.columns = df_rank.columns.str.replace(' ', '_').str.replace(':', '_')\n",
        "# convert all column names to lower case\n",
        "df_rank.columns = df_rank.columns.str.lower()\n",
        "# create index column to have register order\n",
        "df_rank = df_rank.reset_index()"
      ],
      "metadata": {
        "colab": {
          "base_uri": "https://localhost:8080/"
        },
        "id": "HoWNvjLF2zdM",
        "outputId": "271560a9-3f1c-4f89-92a9-7f14121e454c"
      },
      "execution_count": null,
      "outputs": [
        {
          "output_type": "stream",
          "name": "stdout",
          "text": [
            "Ranking table of  2010  has been cleaned.\n",
            "Ranking table of  2011  has been cleaned.\n",
            "Ranking table of  2012  has been cleaned.\n",
            "Ranking table of  2013  has been cleaned.\n",
            "Ranking table of  2014  has been cleaned.\n",
            "Ranking table of  2015  has been cleaned.\n",
            "Ranking table of  2016  has been cleaned.\n",
            "Ranking table of  2017  has been cleaned.\n",
            "Ranking table of  2018  has been cleaned.\n",
            "Ranking table of  2019  has been cleaned.\n",
            "Ranking table of  2021  has been cleaned.\n",
            "Ranking table of  2022  has been cleaned.\n",
            "Ranking table of  2023  has been cleaned.\n",
            "Ranking table of  2024  has been cleaned.\n"
          ]
        }
      ]
    },
    {
      "cell_type": "code",
      "source": [
        "# write raw table in big query\n",
        "pandas_gbq.to_gbq(\n",
        "                  dataframe = df_rank,\n",
        "                  destination_table = 'wsl-data-397017.01_bronze.wsl_ranking_scrap',\n",
        "                  project_id = 'wsl-data-397017',\n",
        "                  if_exists = 'replace'\n",
        "                  )"
      ],
      "metadata": {
        "colab": {
          "base_uri": "https://localhost:8080/"
        },
        "id": "59I1thosFVWR",
        "outputId": "37816c5c-153e-4eee-e070-8ac1118f6ec2"
      },
      "execution_count": null,
      "outputs": [
        {
          "output_type": "stream",
          "name": "stderr",
          "text": [
            "100%|██████████| 1/1 [00:00<00:00, 3241.35it/s]\n"
          ]
        }
      ]
    }
  ]
}
