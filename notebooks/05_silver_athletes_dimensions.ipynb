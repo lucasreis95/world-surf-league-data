{
  "nbformat": 4,
  "nbformat_minor": 0,
  "metadata": {
    "colab": {
      "provenance": [],
      "authorship_tag": "ABX9TyOhg0p0J9OmF+SgMK9QjwA8",
      "include_colab_link": true
    },
    "kernelspec": {
      "name": "python3",
      "display_name": "Python 3"
    },
    "language_info": {
      "name": "python"
    }
  },
  "cells": [
    {
      "cell_type": "markdown",
      "metadata": {
        "id": "view-in-github",
        "colab_type": "text"
      },
      "source": [
        "<a href=\"https://colab.research.google.com/github/lucasreis95/world-surf-league-data/blob/main/notebooks/05_silver_athletes_dimensions.ipynb\" target=\"_parent\"><img src=\"https://colab.research.google.com/assets/colab-badge.svg\" alt=\"Open In Colab\"/></a>"
      ]
    },
    {
      "cell_type": "code",
      "execution_count": null,
      "metadata": {
        "id": "MWFNzy3iDKdC"
      },
      "outputs": [],
      "source": [
        "# import libs\n",
        "import pandas as pd\n",
        "import pandas_gbq\n",
        "import numpy as np\n",
        "import re"
      ]
    },
    {
      "cell_type": "code",
      "source": [
        "# read df from gbq\n",
        "df_raw = pandas_gbq.read_gbq(\n",
        "                             query_or_table = 'wsl-data-397017.01_bronze.wsl_athletes_scrap'\n",
        "                             )"
      ],
      "metadata": {
        "colab": {
          "base_uri": "https://localhost:8080/"
        },
        "id": "4FkuTQeoD72W",
        "outputId": "5d9652e5-abe6-4a31-c7fb-4de5720fd734"
      },
      "execution_count": null,
      "outputs": [
        {
          "output_type": "stream",
          "name": "stdout",
          "text": [
            "Downloading: 100%|\u001b[32m██████████\u001b[0m|\n"
          ]
        }
      ]
    },
    {
      "cell_type": "code",
      "source": [
        "df = df_raw\n",
        "# keep just numbers\n",
        "df['athlete_height'] = df['athlete_height'].apply(lambda x: re.sub(\"[^0-9]\", \"\", str(x)))\n",
        "df['athlete_weight'] = df['athlete_weight'].apply(lambda x: re.sub(\"[^0-9]\", \"\", str(x)))\n",
        "\n",
        "# convert to datetime format\n",
        "df['athlete_birth_date'] = pd.to_datetime(df['athlete_birth_date'], format='%b %d, %Y')\n",
        "\n",
        "#strip str columns\n",
        "df['athlete_name'] = df['athlete_name'].str.strip()\n",
        "df['athlete_country'] = df['athlete_country'].str.strip()\n",
        "df['athlete_stance'] = df['athlete_stance'].str.strip()\n",
        "#df['athlete_home_town'] = df['athlete_home_town'].str.strip()\n",
        "df['athlete_first_season'] = df['athlete_first_season'].str.strip()\n",
        "\n",
        "# remove multiple spaces\n",
        "df['athlete_name'] = df['athlete_name'].replace(r'\\s+', ' ', regex=True)\n",
        "df['athlete_country'] = df['athlete_country'].replace(r'\\s+', ' ', regex=True)\n",
        "df['athlete_stance'] = df['athlete_stance'].replace(r'\\s+', ' ', regex=True)\n",
        "#df['athlete_home_town'] = df['athlete_home_town'].replace(r'\\s+', ' ', regex=True)\n",
        "df['athlete_first_season'] = df['athlete_first_season'].replace(r'\\s+', ' ', regex=True)\n",
        "\n",
        "# lower case\n",
        "df['athlete_country'] = df['athlete_country'].str.lower()\n",
        "df['athlete_name'] = df['athlete_name'].str.lower()\n",
        "df['athlete_stance'] = df['athlete_stance'].str.lower()\n",
        "#df['athlete_home_town'] = df['athlete_home_town'].str.lower()\n",
        "df['athlete_first_season'] = df['athlete_first_season'].str.lower()\n",
        "\n",
        "# replace null values to nan\n",
        "df = df.replace('', np.nan, regex=True)\n",
        "\n",
        "# convert to numeric\n",
        "df['athlete_height'] = df['athlete_height'].astype(float)\n",
        "df['athlete_weight'] = df['athlete_weight'].astype(float)"
      ],
      "metadata": {
        "id": "FxiH825IEBBM"
      },
      "execution_count": null,
      "outputs": []
    },
    {
      "cell_type": "markdown",
      "source": [
        "###Fill stance null values\n"
      ],
      "metadata": {
        "id": "Gj-ewS2UG0ks"
      }
    },
    {
      "cell_type": "code",
      "source": [
        "# check athletes where stance is not filled\n",
        "df[df['athlete_stance'].isnull()].reset_index()['athlete_name']"
      ],
      "metadata": {
        "colab": {
          "base_uri": "https://localhost:8080/"
        },
        "id": "dIpD0YZ6Fbi1",
        "outputId": "a0249cce-4c83-43a5-ea1d-388936e252f4"
      },
      "execution_count": null,
      "outputs": [
        {
          "output_type": "execute_result",
          "data": {
            "text/plain": [
              "0        chris davidson\n",
              "1           daniel ross\n",
              "2          luke stedman\n",
              "3            roy powers\n",
              "4            luke munro\n",
              "5         kekoa bacalso\n",
              "6              ben dunn\n",
              "7            marco polo\n",
              "8         drew courtney\n",
              "9            kael walsh\n",
              "10        tikanui smith\n",
              "11    david delroy-carr\n",
              "12       morgan cibilic\n",
              "13        lucas vicente\n",
              "14         dylan moffat\n",
              "15        ivan florence\n",
              "16          jack thomas\n",
              "17           ben spence\n",
              "18        inia nakalevu\n",
              "Name: athlete_name, dtype: object"
            ]
          },
          "metadata": {},
          "execution_count": 11
        }
      ]
    },
    {
      "cell_type": "code",
      "source": [
        "# create dictionary with those surfers instances\n",
        "fill_na_stance_dict = {\n",
        "'chris davidson':'regular',\n",
        "'daniel ross':'regular',\n",
        "'luke stedman':'regular',\n",
        "'roy powers':'regular',\n",
        "'luke munro':'regular',\n",
        "'kekoa bacalso':'regular',\n",
        "'ben dunn':'regular',\n",
        "'marco polo':'regular',\n",
        "'drew courtney':'regular',\n",
        "'inia nakalevu':'goofy',\n",
        "'kael walsh':'regular',\n",
        "'tikanui smith':'regular',\n",
        "'david delroy-carr':'regular',\n",
        "'jett schilling':'goofy',\n",
        "'morgan cibilic':'regular',\n",
        "'lucas vicente':'goofy',\n",
        "'dylan moffat':'regular',\n",
        "'joao chianca':'regular',\n",
        "'ivan florence':'goofy',\n",
        "'tully wylie':'goofy',\n",
        "'ben spence':'regular',\n",
        "'jack thomas':'regular',\n",
        "}"
      ],
      "metadata": {
        "id": "inUCB1UIHdR1"
      },
      "execution_count": null,
      "outputs": []
    },
    {
      "cell_type": "code",
      "source": [
        "# fill na stance values with dict\n",
        "df['athlete_stance'] = df['athlete_stance'].fillna(df['athlete_name'].map(fill_na_stance_dict))\n",
        "# check athletes if has any null stance already (must be empty)\n",
        "df[df['athlete_stance'].isnull()].reset_index()['athlete_name']"
      ],
      "metadata": {
        "colab": {
          "base_uri": "https://localhost:8080/"
        },
        "id": "Guo3usoRH52s",
        "outputId": "27c76df4-ef23-4f6b-ba7d-30865a2b067a"
      },
      "execution_count": null,
      "outputs": [
        {
          "output_type": "execute_result",
          "data": {
            "text/plain": [
              "0    jack thomas\n",
              "Name: athlete_name, dtype: object"
            ]
          },
          "metadata": {},
          "execution_count": 13
        }
      ]
    },
    {
      "cell_type": "code",
      "source": [
        "# write raw table in big query\n",
        "pandas_gbq.to_gbq(\n",
        "                  dataframe = df,\n",
        "                  destination_table = 'wsl-data-397017.02_silver.wsl_athletes_dimensions',\n",
        "                  project_id = 'wsl-data-397017',\n",
        "                  if_exists = 'replace'\n",
        "                  )"
      ],
      "metadata": {
        "colab": {
          "base_uri": "https://localhost:8080/"
        },
        "id": "-N535vwactsZ",
        "outputId": "b51da4a7-e39c-453a-922b-42170d7e94c6"
      },
      "execution_count": null,
      "outputs": [
        {
          "output_type": "stream",
          "name": "stderr",
          "text": [
            "100%|██████████| 1/1 [00:00<00:00, 1687.85it/s]\n"
          ]
        }
      ]
    }
  ]
}